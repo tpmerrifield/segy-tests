{
 "cells": [
  {
   "cell_type": "code",
   "execution_count": 67,
   "metadata": {},
   "outputs": [],
   "source": [
    "import segyio"
   ]
  },
  {
   "cell_type": "code",
   "execution_count": 68,
   "metadata": {},
   "outputs": [],
   "source": [
    "segyfile = 'path_to_file.sgy'"
   ]
  },
  {
   "cell_type": "code",
   "execution_count": null,
   "metadata": {},
   "outputs": [],
   "source": [
    "# open file in unstructured mode, i.e don't assume SEGY revision 1 byte locations\n",
    "with segyio.open(segyfile, \"r\", ignore_geometry=True) as f:\n",
    "    # get ebcdic\n",
    "    ebcdic = f.text[0]\n",
    "    # get file metadata\n",
    "    spec = segyio.spec()"
   ]
  },
  {
   "cell_type": "code",
   "execution_count": null,
   "metadata": {},
   "outputs": [],
   "source": [
    "ebcdic_string = ebcdic.decode()\n",
    "print (ebcdic_string)"
   ]
  },
  {
   "cell_type": "code",
   "execution_count": 19,
   "metadata": {},
   "outputs": [
    {
     "data": {
      "text/plain": [
       "44334"
      ]
     },
     "execution_count": 19,
     "metadata": {},
     "output_type": "execute_result"
    }
   ],
   "source": [
    "len(head)"
   ]
  },
  {
   "cell_type": "code",
   "execution_count": 34,
   "metadata": {},
   "outputs": [],
   "source": [
    "with segyio.open(segyfile, 'r', ignore_geometry=True) as f:\n",
    "        binfield = segyio.tracefield.keys"
   ]
  },
  {
   "cell_type": "code",
   "execution_count": 41,
   "metadata": {},
   "outputs": [
    {
     "data": {
      "text/plain": [
       "{'TRACE_SEQUENCE_LINE': 1,\n",
       " 'TRACE_SEQUENCE_FILE': 5,\n",
       " 'FieldRecord': 9,\n",
       " 'TraceNumber': 13,\n",
       " 'EnergySourcePoint': 17,\n",
       " 'CDP': 21,\n",
       " 'CDP_TRACE': 25,\n",
       " 'TraceIdentificationCode': 29,\n",
       " 'NSummedTraces': 31,\n",
       " 'NStackedTraces': 33,\n",
       " 'DataUse': 35,\n",
       " 'offset': 37,\n",
       " 'ReceiverGroupElevation': 41,\n",
       " 'SourceSurfaceElevation': 45,\n",
       " 'SourceDepth': 49,\n",
       " 'ReceiverDatumElevation': 53,\n",
       " 'SourceDatumElevation': 57,\n",
       " 'SourceWaterDepth': 61,\n",
       " 'GroupWaterDepth': 65,\n",
       " 'ElevationScalar': 69,\n",
       " 'SourceGroupScalar': 71,\n",
       " 'SourceX': 73,\n",
       " 'SourceY': 77,\n",
       " 'GroupX': 81,\n",
       " 'GroupY': 85,\n",
       " 'CoordinateUnits': 89,\n",
       " 'WeatheringVelocity': 91,\n",
       " 'SubWeatheringVelocity': 93,\n",
       " 'SourceUpholeTime': 95,\n",
       " 'GroupUpholeTime': 97,\n",
       " 'SourceStaticCorrection': 99,\n",
       " 'GroupStaticCorrection': 101,\n",
       " 'TotalStaticApplied': 103,\n",
       " 'LagTimeA': 105,\n",
       " 'LagTimeB': 107,\n",
       " 'DelayRecordingTime': 109,\n",
       " 'MuteTimeStart': 111,\n",
       " 'MuteTimeEND': 113,\n",
       " 'TRACE_SAMPLE_COUNT': 115,\n",
       " 'TRACE_SAMPLE_INTERVAL': 117,\n",
       " 'GainType': 119,\n",
       " 'InstrumentGainConstant': 121,\n",
       " 'InstrumentInitialGain': 123,\n",
       " 'Correlated': 125,\n",
       " 'SweepFrequencyStart': 127,\n",
       " 'SweepFrequencyEnd': 129,\n",
       " 'SweepLength': 131,\n",
       " 'SweepType': 133,\n",
       " 'SweepTraceTaperLengthStart': 135,\n",
       " 'SweepTraceTaperLengthEnd': 137,\n",
       " 'TaperType': 139,\n",
       " 'AliasFilterFrequency': 141,\n",
       " 'AliasFilterSlope': 143,\n",
       " 'NotchFilterFrequency': 145,\n",
       " 'NotchFilterSlope': 147,\n",
       " 'LowCutFrequency': 149,\n",
       " 'HighCutFrequency': 151,\n",
       " 'LowCutSlope': 153,\n",
       " 'HighCutSlope': 155,\n",
       " 'YearDataRecorded': 157,\n",
       " 'DayOfYear': 159,\n",
       " 'HourOfDay': 161,\n",
       " 'MinuteOfHour': 163,\n",
       " 'SecondOfMinute': 165,\n",
       " 'TimeBaseCode': 167,\n",
       " 'TraceWeightingFactor': 169,\n",
       " 'GeophoneGroupNumberRoll1': 171,\n",
       " 'GeophoneGroupNumberFirstTraceOrigField': 173,\n",
       " 'GeophoneGroupNumberLastTraceOrigField': 175,\n",
       " 'GapSize': 177,\n",
       " 'OverTravel': 179,\n",
       " 'CDP_X': 181,\n",
       " 'CDP_Y': 185,\n",
       " 'INLINE_3D': 189,\n",
       " 'CROSSLINE_3D': 193,\n",
       " 'ShotPoint': 197,\n",
       " 'ShotPointScalar': 201,\n",
       " 'TraceValueMeasurementUnit': 203,\n",
       " 'TransductionConstantMantissa': 205,\n",
       " 'TransductionConstantPower': 209,\n",
       " 'TransductionUnit': 211,\n",
       " 'TraceIdentifier': 213,\n",
       " 'ScalarTraceHeader': 215,\n",
       " 'SourceType': 217,\n",
       " 'SourceEnergyDirectionMantissa': 219,\n",
       " 'SourceEnergyDirectionExponent': 223,\n",
       " 'SourceMeasurementMantissa': 225,\n",
       " 'SourceMeasurementExponent': 229,\n",
       " 'SourceMeasurementUnit': 231,\n",
       " 'UnassignedInt1': 233,\n",
       " 'UnassignedInt2': 237}"
      ]
     },
     "execution_count": 41,
     "metadata": {},
     "output_type": "execute_result"
    }
   ],
   "source": [
    "binfield"
   ]
  },
  {
   "cell_type": "code",
   "execution_count": 42,
   "metadata": {},
   "outputs": [],
   "source": [
    "# EBCDIC tells us Inline is in byte position 9, Xline in byte pos 25\n",
    "with segyio.open(segyfile, 'r', iline=9, xline=25) as f:\n",
    "    inlines = f.ilines\n",
    "    xlines = f.xlines"
   ]
  },
  {
   "cell_type": "code",
   "execution_count": 66,
   "metadata": {},
   "outputs": [
    {
     "name": "stdout",
     "output_type": "stream",
     "text": [
      "Inlines (min, max, step): (13590, 16285, 5)\n",
      "Xlines (min, max, step): (56400, 60500, 5)\n"
     ]
    }
   ],
   "source": [
    "import numpy as np\n",
    "print(f'Inlines (min, max, step): {np.min(inlines), np.max(inlines), inlines[1] - inlines[0]}')\n",
    "print(f'Xlines (min, max, step): {np.min(xlines), np.max(xlines), xlines[1] - xlines[0]}')"
   ]
  },
  {
   "cell_type": "code",
   "execution_count": 17,
   "metadata": {},
   "outputs": [],
   "source": [
    "# Get all headers\n",
    "def get_all_headers(segyfile, pct=10):\n",
    "    with segyio.open(segyfile, 'r', ignore_geometry=True) as f:\n",
    "        num_traces = segyio.tools.metadata(f).tracecount\n",
    "        # get a subset of total traces (default 10%)\n",
    "        head = [f.header[x] for x in range(num_traces//pct)]\n",
    "        return head"
   ]
  },
  {
   "cell_type": "code",
   "execution_count": 18,
   "metadata": {},
   "outputs": [],
   "source": [
    "head = get_all_headers(segyfile)"
   ]
  },
  {
   "cell_type": "code",
   "execution_count": 16,
   "metadata": {},
   "outputs": [
    {
     "data": {
      "text/plain": [
       "{TRACE_SEQUENCE_LINE: 1, TRACE_SEQUENCE_FILE: 13590, FieldRecord: 13590, TraceNumber: 0, EnergySourcePoint: 0, CDP: 56400, CDP_TRACE: 0, TraceIdentificationCode: 1, NSummedTraces: 0, NStackedTraces: 0, DataUse: 1, offset: 0, ReceiverGroupElevation: 0, SourceSurfaceElevation: 0, SourceDepth: 0, ReceiverDatumElevation: 0, SourceDatumElevation: 0, SourceWaterDepth: 0, GroupWaterDepth: 0, ElevationScalar: 1, SourceGroupScalar: 1, SourceX: 288962, SourceY: 188972, GroupX: 0, GroupY: 0, CoordinateUnits: 1, WeatheringVelocity: 0, SubWeatheringVelocity: 0, SourceUpholeTime: 0, GroupUpholeTime: 0, SourceStaticCorrection: 0, GroupStaticCorrection: 0, TotalStaticApplied: 0, LagTimeA: 0, LagTimeB: 0, DelayRecordingTime: 0, MuteTimeStart: 0, MuteTimeEND: 0, TRACE_SAMPLE_COUNT: 751, TRACE_SAMPLE_INTERVAL: 4000, GainType: 0, InstrumentGainConstant: 0, InstrumentInitialGain: 0, Correlated: 0, SweepFrequencyStart: 0, SweepFrequencyEnd: 0, SweepLength: 0, SweepType: 0, SweepTraceTaperLengthStart: 0, SweepTraceTaperLengthEnd: 0, TaperType: 0, AliasFilterFrequency: 0, AliasFilterSlope: 0, NotchFilterFrequency: 0, NotchFilterSlope: 0, LowCutFrequency: 0, HighCutFrequency: 0, LowCutSlope: 0, HighCutSlope: 0, YearDataRecorded: 0, DayOfYear: 0, HourOfDay: 0, MinuteOfHour: 0, SecondOfMinute: 0, TimeBaseCode: 0, TraceWeightingFactor: 0, GeophoneGroupNumberRoll1: 0, GeophoneGroupNumberFirstTraceOrigField: 0, GeophoneGroupNumberLastTraceOrigField: 0, GapSize: 0, OverTravel: 0, CDP_X: 288962, CDP_Y: 188972, INLINE_3D: 0, CROSSLINE_3D: 0, ShotPoint: 0, ShotPointScalar: 0, TraceValueMeasurementUnit: 0, TransductionConstantMantissa: 0, TransductionConstantPower: 0, TransductionUnit: 0, TraceIdentifier: 0, ScalarTraceHeader: 0, SourceType: 0, SourceEnergyDirectionMantissa: 0, SourceEnergyDirectionExponent: 0, SourceMeasurementMantissa: 0, SourceMeasurementExponent: 0, SourceMeasurementUnit: 0}"
      ]
     },
     "execution_count": 16,
     "metadata": {},
     "output_type": "execute_result"
    }
   ],
   "source": [
    "# first trace header\n",
    "head[0]"
   ]
  },
  {
   "cell_type": "code",
   "execution_count": null,
   "metadata": {},
   "outputs": [],
   "source": []
  }
 ],
 "metadata": {
  "kernelspec": {
   "display_name": "geocomp",
   "language": "python",
   "name": "geocomp"
  },
  "language_info": {
   "codemirror_mode": {
    "name": "ipython",
    "version": 3
   },
   "file_extension": ".py",
   "mimetype": "text/x-python",
   "name": "python",
   "nbconvert_exporter": "python",
   "pygments_lexer": "ipython3",
   "version": "3.6.5"
  }
 },
 "nbformat": 4,
 "nbformat_minor": 2
}
